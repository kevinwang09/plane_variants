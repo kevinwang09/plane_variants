{
 "cells": [
  {
   "cell_type": "markdown",
   "metadata": {
    "id": "sFGzQL_VXMYv"
   },
   "source": [
    "# Loading packages\n"
   ]
  },
  {
   "cell_type": "code",
   "execution_count": 1,
   "metadata": {
    "id": "tABKdt98Ux38"
   },
   "outputs": [],
   "source": [
    "import matplotlib.pyplot as plt\n",
    "import numpy as np\n",
    "import os\n",
    "import tensorflow as tf\n",
    "import keras\n",
    "import pandas as pd\n",
    "import PIL.Image\n",
    "import collections\n",
    "\n",
    "from tensorflow.keras.preprocessing import image_dataset_from_directory"
   ]
  },
  {
   "cell_type": "markdown",
   "metadata": {
    "id": "C73cA2f-XKqR"
   },
   "source": [
    "# Loading data"
   ]
  },
  {
   "cell_type": "code",
   "execution_count": 2,
   "metadata": {
    "colab": {
     "base_uri": "https://localhost:8080/"
    },
    "executionInfo": {
     "elapsed": 23289,
     "status": "ok",
     "timestamp": 1624079709143,
     "user": {
      "displayName": "Kevin Wang",
      "photoUrl": "https://lh3.googleusercontent.com/a-/AOh14Gi9-Fu0RGN6_SQa5HFDP87EDy6glgCTRMK46uWLjw=s64",
      "userId": "00552789561982738251"
     },
     "user_tz": -600
    },
    "id": "kAKkKBGJVUCF",
    "outputId": "efca2b17-0cbd-49e8-8c27-d23d149027be"
   },
   "outputs": [
    {
     "ename": "ModuleNotFoundError",
     "evalue": "No module named 'google.colab'",
     "output_type": "error",
     "traceback": [
      "\u001b[0;31m---------------------------------------------------------------------------\u001b[0m",
      "\u001b[0;31mModuleNotFoundError\u001b[0m                       Traceback (most recent call last)",
      "\u001b[0;32m<ipython-input-2-d5df0069828e>\u001b[0m in \u001b[0;36m<module>\u001b[0;34m\u001b[0m\n\u001b[0;32m----> 1\u001b[0;31m \u001b[0;32mfrom\u001b[0m \u001b[0mgoogle\u001b[0m\u001b[0;34m.\u001b[0m\u001b[0mcolab\u001b[0m \u001b[0;32mimport\u001b[0m \u001b[0mdrive\u001b[0m\u001b[0;34m\u001b[0m\u001b[0;34m\u001b[0m\u001b[0m\n\u001b[0m\u001b[1;32m      2\u001b[0m \u001b[0mdrive\u001b[0m\u001b[0;34m.\u001b[0m\u001b[0mmount\u001b[0m\u001b[0;34m(\u001b[0m\u001b[0;34m'/content/drive'\u001b[0m\u001b[0;34m)\u001b[0m\u001b[0;34m\u001b[0m\u001b[0;34m\u001b[0m\u001b[0m\n",
      "\u001b[0;31mModuleNotFoundError\u001b[0m: No module named 'google.colab'"
     ]
    }
   ],
   "source": [
    "from google.colab import drive\n",
    "drive.mount('/content/drive')"
   ]
  },
  {
   "cell_type": "code",
   "execution_count": 2,
   "metadata": {},
   "outputs": [],
   "source": [
    "session_conf = tf.compat.v1.ConfigProto(\n",
    "      intra_op_parallelism_threads=10,\n",
    "      inter_op_parallelism_threads=0)\n",
    "sess = tf.compat.v1.Session(config=session_conf)"
   ]
  },
  {
   "cell_type": "code",
   "execution_count": 3,
   "metadata": {
    "colab": {
     "base_uri": "https://localhost:8080/",
     "height": 179
    },
    "executionInfo": {
     "elapsed": 1212,
     "status": "error",
     "timestamp": 1624166074212,
     "user": {
      "displayName": "Kevin Wang",
      "photoUrl": "https://lh3.googleusercontent.com/a-/AOh14Gi9-Fu0RGN6_SQa5HFDP87EDy6glgCTRMK46uWLjw=s64",
      "userId": "00552789561982738251"
     },
     "user_tz": -600
    },
    "id": "AWR2JHjnH8kQ",
    "outputId": "285ae52a-a37a-4b68-ba4c-58e5cbd9cdbd"
   },
   "outputs": [
    {
     "data": {
      "text/html": [
       "<div>\n",
       "<style scoped>\n",
       "    .dataframe tbody tr th:only-of-type {\n",
       "        vertical-align: middle;\n",
       "    }\n",
       "\n",
       "    .dataframe tbody tr th {\n",
       "        vertical-align: top;\n",
       "    }\n",
       "\n",
       "    .dataframe thead th {\n",
       "        text-align: right;\n",
       "    }\n",
       "</style>\n",
       "<table border=\"1\" class=\"dataframe\">\n",
       "  <thead>\n",
       "    <tr style=\"text-align: right;\">\n",
       "      <th></th>\n",
       "      <th>long_model</th>\n",
       "      <th>airline</th>\n",
       "      <th>photo_date</th>\n",
       "      <th>uploaded_date</th>\n",
       "      <th>location</th>\n",
       "      <th>uploader</th>\n",
       "      <th>photo_link</th>\n",
       "      <th>download_path</th>\n",
       "      <th>model</th>\n",
       "      <th>variant</th>\n",
       "    </tr>\n",
       "  </thead>\n",
       "  <tbody>\n",
       "    <tr>\n",
       "      <th>2222</th>\n",
       "      <td>Airbus A330-343</td>\n",
       "      <td>Cebu Pacific Air</td>\n",
       "      <td>Photo date: 2019-11-20</td>\n",
       "      <td>Uploaded: 2021-06-13</td>\n",
       "      <td>Location: Tokyo Narita Int'l Airport - RJAA, J...</td>\n",
       "      <td>By: Lorenzo Varin</td>\n",
       "      <td>cdn.jetphotos.com/400/6/44264_1622446814.jpg</td>\n",
       "      <td>./img/A330/cdn.jetphotos.com-400-6-44264_16224...</td>\n",
       "      <td>A330</td>\n",
       "      <td>343</td>\n",
       "    </tr>\n",
       "    <tr>\n",
       "      <th>27151</th>\n",
       "      <td>Boeing 787-9 Dreamliner</td>\n",
       "      <td>KLM Royal Dutch Airlines</td>\n",
       "      <td>Photo date: 2021-05-26</td>\n",
       "      <td>Uploaded: 2021-06-14</td>\n",
       "      <td>Location: Hong Kong-Chek Lap Kok Int'l Airport...</td>\n",
       "      <td>By: Adrian Tong</td>\n",
       "      <td>cdn.jetphotos.com/400/6/72604_1622491494.jpg</td>\n",
       "      <td>./img/B787/cdn.jetphotos.com-400-6-72604_16224...</td>\n",
       "      <td>B787</td>\n",
       "      <td>9</td>\n",
       "    </tr>\n",
       "    <tr>\n",
       "      <th>19313</th>\n",
       "      <td>Airbus A380-861</td>\n",
       "      <td>Emirates</td>\n",
       "      <td>Photo date: 2018-12-28</td>\n",
       "      <td>Uploaded: 2021-02-14</td>\n",
       "      <td>Location: Brisbane Int'l Airport - YBBN, Austr...</td>\n",
       "      <td>By: Charles Cunliffe</td>\n",
       "      <td>cdn.jetphotos.com/400/5/31796_1612868521.jpg</td>\n",
       "      <td>./img/A380/cdn.jetphotos.com-400-5-31796_16128...</td>\n",
       "      <td>A380</td>\n",
       "      <td>861</td>\n",
       "    </tr>\n",
       "    <tr>\n",
       "      <th>32078</th>\n",
       "      <td>Boeing 747-8B5</td>\n",
       "      <td>Korean Air</td>\n",
       "      <td>Photo date: 2019-09-16</td>\n",
       "      <td>Uploaded: 2021-05-23</td>\n",
       "      <td>Location: Prague Václav Havel Int'l - LKPR, Cz...</td>\n",
       "      <td>By: Frolov Sergey</td>\n",
       "      <td>cdn.jetphotos.com/400/6/46345_1620905791.jpg</td>\n",
       "      <td>./img/B747/cdn.jetphotos.com-400-6-46345_16209...</td>\n",
       "      <td>B747</td>\n",
       "      <td>8B5</td>\n",
       "    </tr>\n",
       "    <tr>\n",
       "      <th>9396</th>\n",
       "      <td>Airbus A380-861</td>\n",
       "      <td>Korean Air</td>\n",
       "      <td>Photo date: 2020-02-16</td>\n",
       "      <td>Uploaded: 2020-12-14</td>\n",
       "      <td>Location: Sydney Kingsford Smith Int'l Airport...</td>\n",
       "      <td>By: Yohane</td>\n",
       "      <td>cdn.jetphotos.com/400/6/44990_1607551511.jpg</td>\n",
       "      <td>./img/A380/cdn.jetphotos.com-400-6-44990_16075...</td>\n",
       "      <td>A380</td>\n",
       "      <td>861</td>\n",
       "    </tr>\n",
       "    <tr>\n",
       "      <th>18757</th>\n",
       "      <td>Airbus A380-861</td>\n",
       "      <td>Emirates</td>\n",
       "      <td>Photo date: 2018-01-08</td>\n",
       "      <td>Uploaded: 2021-06-05</td>\n",
       "      <td>Location: Manchester Ringway Int'l Airport - E...</td>\n",
       "      <td>By: Dave Henderson</td>\n",
       "      <td>cdn.jetphotos.com/400/5/85276_1621715842.jpg</td>\n",
       "      <td>./img/A380/cdn.jetphotos.com-400-5-85276_16217...</td>\n",
       "      <td>A380</td>\n",
       "      <td>861</td>\n",
       "    </tr>\n",
       "    <tr>\n",
       "      <th>14830</th>\n",
       "      <td>Airbus A340-313X</td>\n",
       "      <td>SpiceXpress (HiFly Malta)</td>\n",
       "      <td>Photo date: 2021-04-25</td>\n",
       "      <td>Uploaded: 2021-05-08</td>\n",
       "      <td>Location: Frankfurt Rhein-Main Int'l Airport -...</td>\n",
       "      <td>By: Daniel Klein</td>\n",
       "      <td>cdn.jetphotos.com/400/6/92830_1619636549.jpg</td>\n",
       "      <td>./img/A340/cdn.jetphotos.com-400-6-92830_16196...</td>\n",
       "      <td>A340</td>\n",
       "      <td>313X</td>\n",
       "    </tr>\n",
       "    <tr>\n",
       "      <th>30588</th>\n",
       "      <td>Boeing 737-8H4</td>\n",
       "      <td>Southwest Airlines</td>\n",
       "      <td>Photo date: 2019-10-30</td>\n",
       "      <td>Uploaded: 2021-06-05</td>\n",
       "      <td>Location: Las Vegas McCarran Int'l Airport - K...</td>\n",
       "      <td>By: Michael Walter</td>\n",
       "      <td>cdn.jetphotos.com/400/6/36684_1621697816.jpg</td>\n",
       "      <td>./img/B737/cdn.jetphotos.com-400-6-36684_16216...</td>\n",
       "      <td>B737</td>\n",
       "      <td>8H4</td>\n",
       "    </tr>\n",
       "    <tr>\n",
       "      <th>22964</th>\n",
       "      <td>Boeing 747-4HAERF</td>\n",
       "      <td>Air Bridge Cargo</td>\n",
       "      <td>Photo date: 2021-05-25</td>\n",
       "      <td>Uploaded: 2021-06-14</td>\n",
       "      <td>Location: Milano Malpensa - LIMC, Italy</td>\n",
       "      <td>By: Raoul Andries</td>\n",
       "      <td>cdn.jetphotos.com/400/6/76871_1622493818.jpg</td>\n",
       "      <td>./img/B747/cdn.jetphotos.com-400-6-76871_16224...</td>\n",
       "      <td>B747</td>\n",
       "      <td>4HAERF</td>\n",
       "    </tr>\n",
       "    <tr>\n",
       "      <th>120</th>\n",
       "      <td>Airbus A320-214</td>\n",
       "      <td>Peach Aviation</td>\n",
       "      <td>Photo date: 2021-05-31</td>\n",
       "      <td>Uploaded: 2021-06-14</td>\n",
       "      <td>Location: Tokyo Narita Int'l Airport - RJAA, J...</td>\n",
       "      <td>By: Daisuke</td>\n",
       "      <td>cdn.jetphotos.com/400/5/92227_1622552919.jpg</td>\n",
       "      <td>./img/A320/cdn.jetphotos.com-400-5-92227_16225...</td>\n",
       "      <td>A320</td>\n",
       "      <td>214</td>\n",
       "    </tr>\n",
       "  </tbody>\n",
       "</table>\n",
       "</div>"
      ],
      "text/plain": [
       "                    long_model                    airline  \\\n",
       "2222           Airbus A330-343           Cebu Pacific Air   \n",
       "27151  Boeing 787-9 Dreamliner   KLM Royal Dutch Airlines   \n",
       "19313          Airbus A380-861                   Emirates   \n",
       "32078           Boeing 747-8B5                 Korean Air   \n",
       "9396           Airbus A380-861                 Korean Air   \n",
       "18757          Airbus A380-861                   Emirates   \n",
       "14830         Airbus A340-313X  SpiceXpress (HiFly Malta)   \n",
       "30588           Boeing 737-8H4         Southwest Airlines   \n",
       "22964        Boeing 747-4HAERF           Air Bridge Cargo   \n",
       "120            Airbus A320-214             Peach Aviation   \n",
       "\n",
       "                   photo_date         uploaded_date  \\\n",
       "2222   Photo date: 2019-11-20  Uploaded: 2021-06-13   \n",
       "27151  Photo date: 2021-05-26  Uploaded: 2021-06-14   \n",
       "19313  Photo date: 2018-12-28  Uploaded: 2021-02-14   \n",
       "32078  Photo date: 2019-09-16  Uploaded: 2021-05-23   \n",
       "9396   Photo date: 2020-02-16  Uploaded: 2020-12-14   \n",
       "18757  Photo date: 2018-01-08  Uploaded: 2021-06-05   \n",
       "14830  Photo date: 2021-04-25  Uploaded: 2021-05-08   \n",
       "30588  Photo date: 2019-10-30  Uploaded: 2021-06-05   \n",
       "22964  Photo date: 2021-05-25  Uploaded: 2021-06-14   \n",
       "120    Photo date: 2021-05-31  Uploaded: 2021-06-14   \n",
       "\n",
       "                                                location  \\\n",
       "2222   Location: Tokyo Narita Int'l Airport - RJAA, J...   \n",
       "27151  Location: Hong Kong-Chek Lap Kok Int'l Airport...   \n",
       "19313  Location: Brisbane Int'l Airport - YBBN, Austr...   \n",
       "32078  Location: Prague Václav Havel Int'l - LKPR, Cz...   \n",
       "9396   Location: Sydney Kingsford Smith Int'l Airport...   \n",
       "18757  Location: Manchester Ringway Int'l Airport - E...   \n",
       "14830  Location: Frankfurt Rhein-Main Int'l Airport -...   \n",
       "30588  Location: Las Vegas McCarran Int'l Airport - K...   \n",
       "22964            Location: Milano Malpensa - LIMC, Italy   \n",
       "120    Location: Tokyo Narita Int'l Airport - RJAA, J...   \n",
       "\n",
       "                   uploader                                    photo_link  \\\n",
       "2222      By: Lorenzo Varin  cdn.jetphotos.com/400/6/44264_1622446814.jpg   \n",
       "27151       By: Adrian Tong  cdn.jetphotos.com/400/6/72604_1622491494.jpg   \n",
       "19313  By: Charles Cunliffe  cdn.jetphotos.com/400/5/31796_1612868521.jpg   \n",
       "32078     By: Frolov Sergey  cdn.jetphotos.com/400/6/46345_1620905791.jpg   \n",
       "9396             By: Yohane  cdn.jetphotos.com/400/6/44990_1607551511.jpg   \n",
       "18757    By: Dave Henderson  cdn.jetphotos.com/400/5/85276_1621715842.jpg   \n",
       "14830      By: Daniel Klein  cdn.jetphotos.com/400/6/92830_1619636549.jpg   \n",
       "30588    By: Michael Walter  cdn.jetphotos.com/400/6/36684_1621697816.jpg   \n",
       "22964     By: Raoul Andries  cdn.jetphotos.com/400/6/76871_1622493818.jpg   \n",
       "120             By: Daisuke  cdn.jetphotos.com/400/5/92227_1622552919.jpg   \n",
       "\n",
       "                                           download_path model variant  \n",
       "2222   ./img/A330/cdn.jetphotos.com-400-6-44264_16224...  A330     343  \n",
       "27151  ./img/B787/cdn.jetphotos.com-400-6-72604_16224...  B787       9  \n",
       "19313  ./img/A380/cdn.jetphotos.com-400-5-31796_16128...  A380     861  \n",
       "32078  ./img/B747/cdn.jetphotos.com-400-6-46345_16209...  B747     8B5  \n",
       "9396   ./img/A380/cdn.jetphotos.com-400-6-44990_16075...  A380     861  \n",
       "18757  ./img/A380/cdn.jetphotos.com-400-5-85276_16217...  A380     861  \n",
       "14830  ./img/A340/cdn.jetphotos.com-400-6-92830_16196...  A340    313X  \n",
       "30588  ./img/B737/cdn.jetphotos.com-400-6-36684_16216...  B737     8H4  \n",
       "22964  ./img/B747/cdn.jetphotos.com-400-6-76871_16224...  B747  4HAERF  \n",
       "120    ./img/A320/cdn.jetphotos.com-400-5-92227_16225...  A320     214  "
      ]
     },
     "execution_count": 3,
     "metadata": {},
     "output_type": "execute_result"
    }
   ],
   "source": [
    "# all_info = pd.read_csv(\"/content/drive/MyDrive/GitHub_Projects/plane_variants/img/all_info.csv\")\n",
    "all_info = pd.read_csv(\"./img/all_info.csv\")\n",
    "all_info.sample(10)"
   ]
  },
  {
   "cell_type": "code",
   "execution_count": 4,
   "metadata": {
    "id": "zdys222IpJHu"
   },
   "outputs": [
    {
     "data": {
      "text/html": [
       "<div>\n",
       "<style scoped>\n",
       "    .dataframe tbody tr th:only-of-type {\n",
       "        vertical-align: middle;\n",
       "    }\n",
       "\n",
       "    .dataframe tbody tr th {\n",
       "        vertical-align: top;\n",
       "    }\n",
       "\n",
       "    .dataframe thead th {\n",
       "        text-align: right;\n",
       "    }\n",
       "</style>\n",
       "<table border=\"1\" class=\"dataframe\">\n",
       "  <thead>\n",
       "    <tr style=\"text-align: right;\">\n",
       "      <th></th>\n",
       "      <th>index</th>\n",
       "      <th>long_model</th>\n",
       "      <th>airline</th>\n",
       "      <th>photo_date</th>\n",
       "      <th>uploaded_date</th>\n",
       "      <th>location</th>\n",
       "      <th>uploader</th>\n",
       "      <th>photo_link</th>\n",
       "      <th>download_path</th>\n",
       "      <th>model</th>\n",
       "      <th>variant</th>\n",
       "      <th>purpose</th>\n",
       "    </tr>\n",
       "  </thead>\n",
       "  <tbody>\n",
       "    <tr>\n",
       "      <th>0</th>\n",
       "      <td>8320</td>\n",
       "      <td>Airbus A380-861</td>\n",
       "      <td>Emirates</td>\n",
       "      <td>Photo date: 2021-05-30</td>\n",
       "      <td>Uploaded: 2021-06-15</td>\n",
       "      <td>Location: Manchester Ringway Int'l Airport - E...</td>\n",
       "      <td>By: Paul Spijkers</td>\n",
       "      <td>cdn.jetphotos.com/400/5/68077_1622647548.jpg</td>\n",
       "      <td>./img/A380/cdn.jetphotos.com-400-5-68077_16226...</td>\n",
       "      <td>A380</td>\n",
       "      <td>861</td>\n",
       "      <td>train</td>\n",
       "    </tr>\n",
       "    <tr>\n",
       "      <th>1</th>\n",
       "      <td>8321</td>\n",
       "      <td>Airbus A380-861</td>\n",
       "      <td>Emirates</td>\n",
       "      <td>Photo date: 2021-04-10</td>\n",
       "      <td>Uploaded: 2021-06-15</td>\n",
       "      <td>Location: Guangzhou Baiyun Airport - ZGGG, China</td>\n",
       "      <td>By: ChaleLu</td>\n",
       "      <td>cdn.jetphotos.com/400/6/75937_1622641760.jpg</td>\n",
       "      <td>./img/A380/cdn.jetphotos.com-400-6-75937_16226...</td>\n",
       "      <td>A380</td>\n",
       "      <td>861</td>\n",
       "      <td>test</td>\n",
       "    </tr>\n",
       "    <tr>\n",
       "      <th>2</th>\n",
       "      <td>8322</td>\n",
       "      <td>Airbus A380-841</td>\n",
       "      <td>China Southern Airlines</td>\n",
       "      <td>Photo date: 2021-05-19</td>\n",
       "      <td>Uploaded: 2021-06-15</td>\n",
       "      <td>Location: Guangzhou Baiyun Airport - ZGGG, China</td>\n",
       "      <td>By: Fang Xiaoyu</td>\n",
       "      <td>cdn.jetphotos.com/400/6/74070_1622628386.jpg</td>\n",
       "      <td>./img/A380/cdn.jetphotos.com-400-6-74070_16226...</td>\n",
       "      <td>A380</td>\n",
       "      <td>841</td>\n",
       "      <td>validation</td>\n",
       "    </tr>\n",
       "    <tr>\n",
       "      <th>3</th>\n",
       "      <td>8323</td>\n",
       "      <td>Airbus A380-841</td>\n",
       "      <td>Singapore Airlines</td>\n",
       "      <td>Photo date: 2019-09-02</td>\n",
       "      <td>Uploaded: 2021-06-15</td>\n",
       "      <td>Location: Zurich-Kloten Airport - LSZH, Switze...</td>\n",
       "      <td>By: Nguyen Huy Bao</td>\n",
       "      <td>cdn.jetphotos.com/400/5/32090_1622625012.jpg</td>\n",
       "      <td>./img/A380/cdn.jetphotos.com-400-5-32090_16226...</td>\n",
       "      <td>A380</td>\n",
       "      <td>841</td>\n",
       "      <td>train</td>\n",
       "    </tr>\n",
       "    <tr>\n",
       "      <th>4</th>\n",
       "      <td>8324</td>\n",
       "      <td>Airbus A380-841</td>\n",
       "      <td>British Airways</td>\n",
       "      <td>Photo date: 2019-04-19</td>\n",
       "      <td>Uploaded: 2021-06-15</td>\n",
       "      <td>Location: London Heathrow Int'l - EGLL, United...</td>\n",
       "      <td>By: Simon Fewkes</td>\n",
       "      <td>cdn.jetphotos.com/400/5/60639_1622620557.jpg</td>\n",
       "      <td>./img/A380/cdn.jetphotos.com-400-5-60639_16226...</td>\n",
       "      <td>A380</td>\n",
       "      <td>841</td>\n",
       "      <td>validation</td>\n",
       "    </tr>\n",
       "  </tbody>\n",
       "</table>\n",
       "</div>"
      ],
      "text/plain": [
       "   index       long_model                  airline              photo_date  \\\n",
       "0   8320  Airbus A380-861                 Emirates  Photo date: 2021-05-30   \n",
       "1   8321  Airbus A380-861                 Emirates  Photo date: 2021-04-10   \n",
       "2   8322  Airbus A380-841  China Southern Airlines  Photo date: 2021-05-19   \n",
       "3   8323  Airbus A380-841       Singapore Airlines  Photo date: 2019-09-02   \n",
       "4   8324  Airbus A380-841          British Airways  Photo date: 2019-04-19   \n",
       "\n",
       "          uploaded_date                                           location  \\\n",
       "0  Uploaded: 2021-06-15  Location: Manchester Ringway Int'l Airport - E...   \n",
       "1  Uploaded: 2021-06-15   Location: Guangzhou Baiyun Airport - ZGGG, China   \n",
       "2  Uploaded: 2021-06-15   Location: Guangzhou Baiyun Airport - ZGGG, China   \n",
       "3  Uploaded: 2021-06-15  Location: Zurich-Kloten Airport - LSZH, Switze...   \n",
       "4  Uploaded: 2021-06-15  Location: London Heathrow Int'l - EGLL, United...   \n",
       "\n",
       "             uploader                                    photo_link  \\\n",
       "0   By: Paul Spijkers  cdn.jetphotos.com/400/5/68077_1622647548.jpg   \n",
       "1         By: ChaleLu  cdn.jetphotos.com/400/6/75937_1622641760.jpg   \n",
       "2     By: Fang Xiaoyu  cdn.jetphotos.com/400/6/74070_1622628386.jpg   \n",
       "3  By: Nguyen Huy Bao  cdn.jetphotos.com/400/5/32090_1622625012.jpg   \n",
       "4    By: Simon Fewkes  cdn.jetphotos.com/400/5/60639_1622620557.jpg   \n",
       "\n",
       "                                       download_path model variant     purpose  \n",
       "0  ./img/A380/cdn.jetphotos.com-400-5-68077_16226...  A380     861       train  \n",
       "1  ./img/A380/cdn.jetphotos.com-400-6-75937_16226...  A380     861        test  \n",
       "2  ./img/A380/cdn.jetphotos.com-400-6-74070_16226...  A380     841  validation  \n",
       "3  ./img/A380/cdn.jetphotos.com-400-5-32090_16226...  A380     841       train  \n",
       "4  ./img/A380/cdn.jetphotos.com-400-5-60639_16226...  A380     841  validation  "
      ]
     },
     "execution_count": 4,
     "metadata": {},
     "output_type": "execute_result"
    }
   ],
   "source": [
    "# all_info.loc[:, \"download_path\"] = all_info.download_path.str.replace(\"\\\\./\", \"/content/drive/MyDrive/GitHub_Projects/plane_variants/\")\n",
    "all_info_rows = all_info.shape[0]\n",
    "np.random.seed(10)\n",
    "all_info[\"purpose\"] = np.random.choice([\"train\", \"test\", \"validation\"], size=all_info_rows, replace=True, p=[0.64, 0.16, 0.2])\n",
    "a380vb747 = all_info.loc[all_info.model.isin([\"A380\", \"B747\", \"B787\"])].reset_index()\n",
    "a380vb747.head()"
   ]
  },
  {
   "cell_type": "code",
   "execution_count": 5,
   "metadata": {
    "colab": {
     "base_uri": "https://localhost:8080/"
    },
    "executionInfo": {
     "elapsed": 337,
     "status": "ok",
     "timestamp": 1624096125107,
     "user": {
      "displayName": "Kevin Wang",
      "photoUrl": "https://lh3.googleusercontent.com/a-/AOh14Gi9-Fu0RGN6_SQa5HFDP87EDy6glgCTRMK46uWLjw=s64",
      "userId": "00552789561982738251"
     },
     "user_tz": -600
    },
    "id": "ZlQZ9puGLX-G",
    "outputId": "32ea5438-69a3-4f4c-e2fb-495d7382f7f0"
   },
   "outputs": [
    {
     "name": "stdout",
     "output_type": "stream",
     "text": [
      "0    ./img/A380/cdn.jetphotos.com-400-5-68077_16226...\n",
      "3    ./img/A380/cdn.jetphotos.com-400-5-32090_16226...\n",
      "6    ./img/A380/cdn.jetphotos.com-400-5-56656_16225...\n",
      "7    ./img/A380/cdn.jetphotos.com-400-6-26438_16224...\n",
      "8    ./img/A380/cdn.jetphotos.com-400-6-68200_16224...\n",
      "Name: download_path, dtype: object\n"
     ]
    }
   ],
   "source": [
    "train_df = a380vb747.loc[a380vb747.purpose == \"train\"]\n",
    "test_df = a380vb747.loc[a380vb747.purpose == \"test\"]\n",
    "validation_df = a380vb747.loc[a380vb747.purpose == \"validation\"]\n",
    "print(train_df.download_path.head())"
   ]
  },
  {
   "cell_type": "code",
   "execution_count": 6,
   "metadata": {
    "colab": {
     "base_uri": "https://localhost:8080/",
     "height": 35
    },
    "executionInfo": {
     "elapsed": 7,
     "status": "ok",
     "timestamp": 1624096126171,
     "user": {
      "displayName": "Kevin Wang",
      "photoUrl": "https://lh3.googleusercontent.com/a-/AOh14Gi9-Fu0RGN6_SQa5HFDP87EDy6glgCTRMK46uWLjw=s64",
      "userId": "00552789561982738251"
     },
     "user_tz": -600
    },
    "id": "5zZYLxJwq87U",
    "outputId": "6d78d8dd-0a67-48d5-a975-a9cec9cdada0"
   },
   "outputs": [
    {
     "data": {
      "text/plain": [
       "'./img/A380/cdn.jetphotos.com-400-5-68077_1622647548.jpg'"
      ]
     },
     "execution_count": 6,
     "metadata": {},
     "output_type": "execute_result"
    }
   ],
   "source": [
    "train_df.download_path[0]"
   ]
  },
  {
   "cell_type": "code",
   "execution_count": 7,
   "metadata": {
    "colab": {
     "base_uri": "https://localhost:8080/",
     "height": 242
    },
    "executionInfo": {
     "elapsed": 972,
     "status": "ok",
     "timestamp": 1624096129602,
     "user": {
      "displayName": "Kevin Wang",
      "photoUrl": "https://lh3.googleusercontent.com/a-/AOh14Gi9-Fu0RGN6_SQa5HFDP87EDy6glgCTRMK46uWLjw=s64",
      "userId": "00552789561982738251"
     },
     "user_tz": -600
    },
    "id": "BBEVCkoDr-P-",
    "outputId": "cc91edf6-130a-4c55-961b-6f690339f98f"
   },
   "outputs": [
    {
     "data": {
      "image/png": "[encoded data removed]",
      "text/plain": [
       "<PIL.JpegImagePlugin.JpegImageFile image mode=RGB size=400x225 at 0x7F06543DA4E0>"
      ]
     },
     "execution_count": 7,
     "metadata": {},
     "output_type": "execute_result"
    }
   ],
   "source": [
    "PIL.Image.open(str(train_df.download_path[0]))"
   ]
  },
  {
   "cell_type": "code",
   "execution_count": 12,
   "metadata": {
    "colab": {
     "base_uri": "https://localhost:8080/"
    },
    "executionInfo": {
     "elapsed": 1931,
     "status": "ok",
     "timestamp": 1624096138261,
     "user": {
      "displayName": "Kevin Wang",
      "photoUrl": "https://lh3.googleusercontent.com/a-/AOh14Gi9-Fu0RGN6_SQa5HFDP87EDy6glgCTRMK46uWLjw=s64",
      "userId": "00552789561982738251"
     },
     "user_tz": -600
    },
    "id": "z5q3fh5TqPsC",
    "outputId": "3a2659b6-312a-49b1-98c8-cdcf50584deb"
   },
   "outputs": [
    {
     "name": "stdout",
     "output_type": "stream",
     "text": [
      "Found 7964 validated image filenames belonging to 3 classes.\n",
      "Found 1990 validated image filenames belonging to 3 classes.\n",
      "Found 2526 validated image filenames belonging to 3 classes.\n"
     ]
    }
   ],
   "source": [
    "def prep_fn(img):\n",
    "    img = img.astype(np.float32) / 255.0\n",
    "    img = (img - 0.5) * 2\n",
    "    return img\n",
    "\n",
    "train_datagen = tf.keras.preprocessing.image.ImageDataGenerator(preprocessing_function=prep_fn)\n",
    "test_datagen = tf.keras.preprocessing.image.ImageDataGenerator(preprocessing_function=prep_fn)\n",
    "validation_datagen = tf.keras.preprocessing.image.ImageDataGenerator(preprocessing_function=prep_fn)\n",
    "\n",
    "IMG_SIZE = (225, 400)\n",
    "\n",
    "train_dataset = train_datagen.flow_from_dataframe(\n",
    "    dataframe=train_df,\n",
    "    directory=None,\n",
    "    x_col=\"download_path\",\n",
    "    y_col=\"model\",\n",
    "    target_size=IMG_SIZE,\n",
    "    color_mode=\"rgb\",\n",
    "    class_mode=\"categorical\",\n",
    "    batch_size=32,\n",
    "    shuffle=True,\n",
    "    seed=1234)\n",
    "\n",
    "test_dataset = test_datagen.flow_from_dataframe(\n",
    "    dataframe=test_df,\n",
    "    directory=None,\n",
    "    x_col=\"download_path\",\n",
    "    y_col=\"model\",\n",
    "    target_size=IMG_SIZE,\n",
    "    color_mode=\"rgb\",\n",
    "    class_mode=\"categorical\",\n",
    "    batch_size=32,\n",
    "    shuffle=True,\n",
    "    seed=1234)\n",
    "\n",
    "validation_dataset = validation_datagen.flow_from_dataframe(\n",
    "    dataframe=validation_df,\n",
    "    directory=None,\n",
    "    x_col=\"download_path\",\n",
    "    y_col=\"model\",\n",
    "    target_size=IMG_SIZE,\n",
    "    color_mode=\"rgb\",\n",
    "    class_mode=\"categorical\",\n",
    "    batch_size=32,\n",
    "    shuffle=True,\n",
    "    seed=1234)"
   ]
  },
  {
   "cell_type": "code",
   "execution_count": 13,
   "metadata": {
    "colab": {
     "base_uri": "https://localhost:8080/"
    },
    "executionInfo": {
     "elapsed": 3,
     "status": "ok",
     "timestamp": 1624096138660,
     "user": {
      "displayName": "Kevin Wang",
      "photoUrl": "https://lh3.googleusercontent.com/a-/AOh14Gi9-Fu0RGN6_SQa5HFDP87EDy6glgCTRMK46uWLjw=s64",
      "userId": "00552789561982738251"
     },
     "user_tz": -600
    },
    "id": "JW6G4QPdBHea",
    "outputId": "0be176a2-b731-40ea-9fd9-e3fc8259fcd2"
   },
   "outputs": [
    {
     "name": "stdout",
     "output_type": "stream",
     "text": [
      "Counter({2: 2691, 0: 2656, 1: 2617})\n"
     ]
    }
   ],
   "source": [
    "print(collections.Counter(train_dataset.labels))"
   ]
  },
  {
   "cell_type": "code",
   "execution_count": 14,
   "metadata": {
    "colab": {
     "base_uri": "https://localhost:8080/"
    },
    "executionInfo": {
     "elapsed": 6010,
     "status": "ok",
     "timestamp": 1624096145162,
     "user": {
      "displayName": "Kevin Wang",
      "photoUrl": "https://lh3.googleusercontent.com/a-/AOh14Gi9-Fu0RGN6_SQa5HFDP87EDy6glgCTRMK46uWLjw=s64",
      "userId": "00552789561982738251"
     },
     "user_tz": -600
    },
    "id": "dl6nkowS0qCd",
    "outputId": "da08ad2f-8494-4da5-ff8b-12e852bc0cb1"
   },
   "outputs": [
    {
     "data": {
      "text/plain": [
       "(32, 225, 400, 3)"
      ]
     },
     "execution_count": 14,
     "metadata": {},
     "output_type": "execute_result"
    }
   ],
   "source": [
    "train_dataset[0][0].shape"
   ]
  },
  {
   "cell_type": "code",
   "execution_count": 15,
   "metadata": {
    "colab": {
     "base_uri": "https://localhost:8080/",
     "height": 240
    },
    "executionInfo": {
     "elapsed": 1207,
     "status": "ok",
     "timestamp": 1624096146359,
     "user": {
      "displayName": "Kevin Wang",
      "photoUrl": "https://lh3.googleusercontent.com/a-/AOh14Gi9-Fu0RGN6_SQa5HFDP87EDy6glgCTRMK46uWLjw=s64",
      "userId": "00552789561982738251"
     },
     "user_tz": -600
    },
    "id": "sO2tM4iPw-Nm",
    "outputId": "3d9dce4c-6c0d-42f8-859a-8401a99d9b15"
   },
   "outputs": [
    {
     "data": {
      "image/png": "[encoded data removed]",
      "text/plain": [
       "<Figure size 432x288 with 1 Axes>"
      ]
     },
     "metadata": {
      "needs_background": "light"
     },
     "output_type": "display_data"
    }
   ],
   "source": [
    "plt.imshow(((train_dataset[0][0][0,:,:,:])+1)/2)\n",
    "plt.show()"
   ]
  },
  {
   "cell_type": "code",
   "execution_count": 16,
   "metadata": {
    "colab": {
     "base_uri": "https://localhost:8080/"
    },
    "executionInfo": {
     "elapsed": 904,
     "status": "ok",
     "timestamp": 1624096151029,
     "user": {
      "displayName": "Kevin Wang",
      "photoUrl": "https://lh3.googleusercontent.com/a-/AOh14Gi9-Fu0RGN6_SQa5HFDP87EDy6glgCTRMK46uWLjw=s64",
      "userId": "00552789561982738251"
     },
     "user_tz": -600
    },
    "id": "0d5rYV5kQjtR",
    "outputId": "6761a705-695d-4c50-dc2f-9e3fcdd7f21b"
   },
   "outputs": [
    {
     "name": "stdout",
     "output_type": "stream",
     "text": [
      "1.0\n",
      "-1.0\n"
     ]
    }
   ],
   "source": [
    "print(np.max(train_dataset[0][0][0,:,:,:]))\n",
    "print(np.min(train_dataset[0][0][0,:,:,:]))"
   ]
  },
  {
   "cell_type": "code",
   "execution_count": 17,
   "metadata": {
    "colab": {
     "base_uri": "https://localhost:8080/"
    },
    "executionInfo": {
     "elapsed": 1751,
     "status": "ok",
     "timestamp": 1624096154356,
     "user": {
      "displayName": "Kevin Wang",
      "photoUrl": "https://lh3.googleusercontent.com/a-/AOh14Gi9-Fu0RGN6_SQa5HFDP87EDy6glgCTRMK46uWLjw=s64",
      "userId": "00552789561982738251"
     },
     "user_tz": -600
    },
    "id": "Bak-ejHx9aoI",
    "outputId": "a98f8fd6-a0d9-4cbc-9c16-5c81ab91f2b4"
   },
   "outputs": [
    {
     "name": "stdout",
     "output_type": "stream",
     "text": [
      "WARNING:tensorflow:`input_shape` is undefined or non-square, or `rows` is not in [96, 128, 160, 192, 224]. Weights for input shape (224, 224) will be loaded as the default.\n"
     ]
    }
   ],
   "source": [
    "IMG_SHAPE = IMG_SIZE + (3,)\n",
    "base_model = tf.keras.applications.MobileNetV2(input_shape=IMG_SHAPE,\n",
    "                                               include_top=False,\n",
    "                                               weights='imagenet')"
   ]
  },
  {
   "cell_type": "code",
   "execution_count": 18,
   "metadata": {
    "colab": {
     "base_uri": "https://localhost:8080/"
    },
    "executionInfo": {
     "elapsed": 9811,
     "status": "ok",
     "timestamp": 1624096164163,
     "user": {
      "displayName": "Kevin Wang",
      "photoUrl": "https://lh3.googleusercontent.com/a-/AOh14Gi9-Fu0RGN6_SQa5HFDP87EDy6glgCTRMK46uWLjw=s64",
      "userId": "00552789561982738251"
     },
     "user_tz": -600
    },
    "id": "aCkIv-yxBprM",
    "outputId": "c4cfb65d-a7fc-4e04-fd63-139e27c2f8ed"
   },
   "outputs": [
    {
     "name": "stdout",
     "output_type": "stream",
     "text": [
      "(32, 8, 13, 1280)\n"
     ]
    }
   ],
   "source": [
    "image_batch, label_batch = next(iter(train_dataset))\n",
    "feature_batch = base_model(image_batch)\n",
    "print(feature_batch.shape)"
   ]
  },
  {
   "cell_type": "markdown",
   "metadata": {
    "id": "W3jd0xLrByh-"
   },
   "source": [
    "# Feature extraction"
   ]
  },
  {
   "cell_type": "code",
   "execution_count": 19,
   "metadata": {
    "colab": {
     "base_uri": "https://localhost:8080/"
    },
    "executionInfo": {
     "elapsed": 18,
     "status": "ok",
     "timestamp": 1624096164164,
     "user": {
      "displayName": "Kevin Wang",
      "photoUrl": "https://lh3.googleusercontent.com/a-/AOh14Gi9-Fu0RGN6_SQa5HFDP87EDy6glgCTRMK46uWLjw=s64",
      "userId": "00552789561982738251"
     },
     "user_tz": -600
    },
    "id": "dATNmsKgBu3C",
    "outputId": "c9bf42ae-480d-4739-96e1-30232d04c698"
   },
   "outputs": [
    {
     "name": "stdout",
     "output_type": "stream",
     "text": [
      "Model: \"mobilenetv2_1.00_224\"\n",
      "__________________________________________________________________________________________________\n",
      "Layer (type)                    Output Shape         Param #     Connected to                     \n",
      "==================================================================================================\n",
      "input_1 (InputLayer)            [(None, 225, 400, 3) 0                                            \n",
      "__________________________________________________________________________________________________\n",
      "Conv1 (Conv2D)                  (None, 113, 200, 32) 864         input_1[0][0]                    \n",
      "__________________________________________________________________________________________________\n",
      "bn_Conv1 (BatchNormalization)   (None, 113, 200, 32) 128         Conv1[0][0]                      \n",
      "__________________________________________________________________________________________________\n",
      "Conv1_relu (ReLU)               (None, 113, 200, 32) 0           bn_Conv1[0][0]                   \n",
      "__________________________________________________________________________________________________\n",
      "expanded_conv_depthwise (Depthw (None, 113, 200, 32) 288         Conv1_relu[0][0]                 \n",
      "__________________________________________________________________________________________________\n",
      "expanded_conv_depthwise_BN (Bat (None, 113, 200, 32) 128         expanded_conv_depthwise[0][0]    \n",
      "__________________________________________________________________________________________________\n",
      "expanded_conv_depthwise_relu (R (None, 113, 200, 32) 0           expanded_conv_depthwise_BN[0][0] \n",
      "__________________________________________________________________________________________________\n",
      "expanded_conv_project (Conv2D)  (None, 113, 200, 16) 512         expanded_conv_depthwise_relu[0][0\n",
      "__________________________________________________________________________________________________\n",
      "expanded_conv_project_BN (Batch (None, 113, 200, 16) 64          expanded_conv_project[0][0]      \n",
      "__________________________________________________________________________________________________\n",
      "block_1_expand (Conv2D)         (None, 113, 200, 96) 1536        expanded_conv_project_BN[0][0]   \n",
      "__________________________________________________________________________________________________\n",
      "block_1_expand_BN (BatchNormali (None, 113, 200, 96) 384         block_1_expand[0][0]             \n",
      "__________________________________________________________________________________________________\n",
      "block_1_expand_relu (ReLU)      (None, 113, 200, 96) 0           block_1_expand_BN[0][0]          \n",
      "__________________________________________________________________________________________________\n",
      "block_1_pad (ZeroPadding2D)     (None, 115, 201, 96) 0           block_1_expand_relu[0][0]        \n",
      "__________________________________________________________________________________________________\n",
      "block_1_depthwise (DepthwiseCon (None, 57, 100, 96)  864         block_1_pad[0][0]                \n",
      "__________________________________________________________________________________________________\n",
      "block_1_depthwise_BN (BatchNorm (None, 57, 100, 96)  384         block_1_depthwise[0][0]          \n",
      "__________________________________________________________________________________________________\n",
      "block_1_depthwise_relu (ReLU)   (None, 57, 100, 96)  0           block_1_depthwise_BN[0][0]       \n",
      "__________________________________________________________________________________________________\n",
      "block_1_project (Conv2D)        (None, 57, 100, 24)  2304        block_1_depthwise_relu[0][0]     \n",
      "__________________________________________________________________________________________________\n",
      "block_1_project_BN (BatchNormal (None, 57, 100, 24)  96          block_1_project[0][0]            \n",
      "__________________________________________________________________________________________________\n",
      "block_2_expand (Conv2D)         (None, 57, 100, 144) 3456        block_1_project_BN[0][0]         \n",
      "__________________________________________________________________________________________________\n",
      "block_2_expand_BN (BatchNormali (None, 57, 100, 144) 576         block_2_expand[0][0]             \n",
      "__________________________________________________________________________________________________\n",
      "block_2_expand_relu (ReLU)      (None, 57, 100, 144) 0           block_2_expand_BN[0][0]          \n",
      "__________________________________________________________________________________________________\n",
      "block_2_depthwise (DepthwiseCon (None, 57, 100, 144) 1296        block_2_expand_relu[0][0]        \n",
      "__________________________________________________________________________________________________\n",
      "block_2_depthwise_BN (BatchNorm (None, 57, 100, 144) 576         block_2_depthwise[0][0]          \n",
      "__________________________________________________________________________________________________\n",
      "block_2_depthwise_relu (ReLU)   (None, 57, 100, 144) 0           block_2_depthwise_BN[0][0]       \n",
      "__________________________________________________________________________________________________\n",
      "block_2_project (Conv2D)        (None, 57, 100, 24)  3456        block_2_depthwise_relu[0][0]     \n",
      "__________________________________________________________________________________________________\n",
      "block_2_project_BN (BatchNormal (None, 57, 100, 24)  96          block_2_project[0][0]            \n",
      "__________________________________________________________________________________________________\n",
      "block_2_add (Add)               (None, 57, 100, 24)  0           block_1_project_BN[0][0]         \n",
      "                                                                 block_2_project_BN[0][0]         \n",
      "__________________________________________________________________________________________________\n",
      "block_3_expand (Conv2D)         (None, 57, 100, 144) 3456        block_2_add[0][0]                \n",
      "__________________________________________________________________________________________________\n",
      "block_3_expand_BN (BatchNormali (None, 57, 100, 144) 576         block_3_expand[0][0]             \n",
      "__________________________________________________________________________________________________\n",
      "block_3_expand_relu (ReLU)      (None, 57, 100, 144) 0           block_3_expand_BN[0][0]          \n",
      "__________________________________________________________________________________________________\n",
      "block_3_pad (ZeroPadding2D)     (None, 59, 101, 144) 0           block_3_expand_relu[0][0]        \n",
      "__________________________________________________________________________________________________\n",
      "block_3_depthwise (DepthwiseCon (None, 29, 50, 144)  1296        block_3_pad[0][0]                \n",
      "__________________________________________________________________________________________________\n",
      "block_3_depthwise_BN (BatchNorm (None, 29, 50, 144)  576         block_3_depthwise[0][0]          \n",
      "__________________________________________________________________________________________________\n",
      "block_3_depthwise_relu (ReLU)   (None, 29, 50, 144)  0           block_3_depthwise_BN[0][0]       \n",
      "__________________________________________________________________________________________________\n",
      "block_3_project (Conv2D)        (None, 29, 50, 32)   4608        block_3_depthwise_relu[0][0]     \n",
      "__________________________________________________________________________________________________\n",
      "block_3_project_BN (BatchNormal (None, 29, 50, 32)   128         block_3_project[0][0]            \n",
      "__________________________________________________________________________________________________\n",
      "block_4_expand (Conv2D)         (None, 29, 50, 192)  6144        block_3_project_BN[0][0]         \n",
      "__________________________________________________________________________________________________\n",
      "block_4_expand_BN (BatchNormali (None, 29, 50, 192)  768         block_4_expand[0][0]             \n",
      "__________________________________________________________________________________________________\n",
      "block_4_expand_relu (ReLU)      (None, 29, 50, 192)  0           block_4_expand_BN[0][0]          \n",
      "__________________________________________________________________________________________________\n",
      "block_4_depthwise (DepthwiseCon (None, 29, 50, 192)  1728        block_4_expand_relu[0][0]        \n",
      "__________________________________________________________________________________________________\n",
      "block_4_depthwise_BN (BatchNorm (None, 29, 50, 192)  768         block_4_depthwise[0][0]          \n",
      "__________________________________________________________________________________________________\n",
      "block_4_depthwise_relu (ReLU)   (None, 29, 50, 192)  0           block_4_depthwise_BN[0][0]       \n",
      "__________________________________________________________________________________________________\n",
      "block_4_project (Conv2D)        (None, 29, 50, 32)   6144        block_4_depthwise_relu[0][0]     \n",
      "__________________________________________________________________________________________________\n",
      "block_4_project_BN (BatchNormal (None, 29, 50, 32)   128         block_4_project[0][0]            \n",
      "__________________________________________________________________________________________________\n",
      "block_4_add (Add)               (None, 29, 50, 32)   0           block_3_project_BN[0][0]         \n",
      "                                                                 block_4_project_BN[0][0]         \n",
      "__________________________________________________________________________________________________\n",
      "block_5_expand (Conv2D)         (None, 29, 50, 192)  6144        block_4_add[0][0]                \n",
      "__________________________________________________________________________________________________\n",
      "block_5_expand_BN (BatchNormali (None, 29, 50, 192)  768         block_5_expand[0][0]             \n",
      "__________________________________________________________________________________________________\n",
      "block_5_expand_relu (ReLU)      (None, 29, 50, 192)  0           block_5_expand_BN[0][0]          \n",
      "__________________________________________________________________________________________________\n",
      "block_5_depthwise (DepthwiseCon (None, 29, 50, 192)  1728        block_5_expand_relu[0][0]        \n",
      "__________________________________________________________________________________________________\n",
      "block_5_depthwise_BN (BatchNorm (None, 29, 50, 192)  768         block_5_depthwise[0][0]          \n",
      "__________________________________________________________________________________________________\n",
      "block_5_depthwise_relu (ReLU)   (None, 29, 50, 192)  0           block_5_depthwise_BN[0][0]       \n",
      "__________________________________________________________________________________________________\n",
      "block_5_project (Conv2D)        (None, 29, 50, 32)   6144        block_5_depthwise_relu[0][0]     \n",
      "__________________________________________________________________________________________________\n",
      "block_5_project_BN (BatchNormal (None, 29, 50, 32)   128         block_5_project[0][0]            \n",
      "__________________________________________________________________________________________________\n",
      "block_5_add (Add)               (None, 29, 50, 32)   0           block_4_add[0][0]                \n",
      "                                                                 block_5_project_BN[0][0]         \n",
      "__________________________________________________________________________________________________\n",
      "block_6_expand (Conv2D)         (None, 29, 50, 192)  6144        block_5_add[0][0]                \n",
      "__________________________________________________________________________________________________\n",
      "block_6_expand_BN (BatchNormali (None, 29, 50, 192)  768         block_6_expand[0][0]             \n",
      "__________________________________________________________________________________________________\n",
      "block_6_expand_relu (ReLU)      (None, 29, 50, 192)  0           block_6_expand_BN[0][0]          \n",
      "__________________________________________________________________________________________________\n",
      "block_6_pad (ZeroPadding2D)     (None, 31, 51, 192)  0           block_6_expand_relu[0][0]        \n",
      "__________________________________________________________________________________________________\n",
      "block_6_depthwise (DepthwiseCon (None, 15, 25, 192)  1728        block_6_pad[0][0]                \n",
      "__________________________________________________________________________________________________\n",
      "block_6_depthwise_BN (BatchNorm (None, 15, 25, 192)  768         block_6_depthwise[0][0]          \n",
      "__________________________________________________________________________________________________\n",
      "block_6_depthwise_relu (ReLU)   (None, 15, 25, 192)  0           block_6_depthwise_BN[0][0]       \n",
      "__________________________________________________________________________________________________\n",
      "block_6_project (Conv2D)        (None, 15, 25, 64)   12288       block_6_depthwise_relu[0][0]     \n",
      "__________________________________________________________________________________________________\n",
      "block_6_project_BN (BatchNormal (None, 15, 25, 64)   256         block_6_project[0][0]            \n",
      "__________________________________________________________________________________________________\n",
      "block_7_expand (Conv2D)         (None, 15, 25, 384)  24576       block_6_project_BN[0][0]         \n",
      "__________________________________________________________________________________________________\n",
      "block_7_expand_BN (BatchNormali (None, 15, 25, 384)  1536        block_7_expand[0][0]             \n",
      "__________________________________________________________________________________________________\n",
      "block_7_expand_relu (ReLU)      (None, 15, 25, 384)  0           block_7_expand_BN[0][0]          \n",
      "__________________________________________________________________________________________________\n",
      "block_7_depthwise (DepthwiseCon (None, 15, 25, 384)  3456        block_7_expand_relu[0][0]        \n",
      "__________________________________________________________________________________________________\n",
      "block_7_depthwise_BN (BatchNorm (None, 15, 25, 384)  1536        block_7_depthwise[0][0]          \n",
      "__________________________________________________________________________________________________\n",
      "block_7_depthwise_relu (ReLU)   (None, 15, 25, 384)  0           block_7_depthwise_BN[0][0]       \n",
      "__________________________________________________________________________________________________\n",
      "block_7_project (Conv2D)        (None, 15, 25, 64)   24576       block_7_depthwise_relu[0][0]     \n",
      "__________________________________________________________________________________________________\n",
      "block_7_project_BN (BatchNormal (None, 15, 25, 64)   256         block_7_project[0][0]            \n",
      "__________________________________________________________________________________________________\n",
      "block_7_add (Add)               (None, 15, 25, 64)   0           block_6_project_BN[0][0]         \n",
      "                                                                 block_7_project_BN[0][0]         \n",
      "__________________________________________________________________________________________________\n",
      "block_8_expand (Conv2D)         (None, 15, 25, 384)  24576       block_7_add[0][0]                \n",
      "__________________________________________________________________________________________________\n",
      "block_8_expand_BN (BatchNormali (None, 15, 25, 384)  1536        block_8_expand[0][0]             \n",
      "__________________________________________________________________________________________________\n",
      "block_8_expand_relu (ReLU)      (None, 15, 25, 384)  0           block_8_expand_BN[0][0]          \n",
      "__________________________________________________________________________________________________\n",
      "block_8_depthwise (DepthwiseCon (None, 15, 25, 384)  3456        block_8_expand_relu[0][0]        \n",
      "__________________________________________________________________________________________________\n",
      "block_8_depthwise_BN (BatchNorm (None, 15, 25, 384)  1536        block_8_depthwise[0][0]          \n",
      "__________________________________________________________________________________________________\n",
      "block_8_depthwise_relu (ReLU)   (None, 15, 25, 384)  0           block_8_depthwise_BN[0][0]       \n",
      "__________________________________________________________________________________________________\n",
      "block_8_project (Conv2D)        (None, 15, 25, 64)   24576       block_8_depthwise_relu[0][0]     \n",
      "__________________________________________________________________________________________________\n",
      "block_8_project_BN (BatchNormal (None, 15, 25, 64)   256         block_8_project[0][0]            \n",
      "__________________________________________________________________________________________________\n",
      "block_8_add (Add)               (None, 15, 25, 64)   0           block_7_add[0][0]                \n",
      "                                                                 block_8_project_BN[0][0]         \n",
      "__________________________________________________________________________________________________\n",
      "block_9_expand (Conv2D)         (None, 15, 25, 384)  24576       block_8_add[0][0]                \n",
      "__________________________________________________________________________________________________\n",
      "block_9_expand_BN (BatchNormali (None, 15, 25, 384)  1536        block_9_expand[0][0]             \n",
      "__________________________________________________________________________________________________\n",
      "block_9_expand_relu (ReLU)      (None, 15, 25, 384)  0           block_9_expand_BN[0][0]          \n",
      "__________________________________________________________________________________________________\n",
      "block_9_depthwise (DepthwiseCon (None, 15, 25, 384)  3456        block_9_expand_relu[0][0]        \n",
      "__________________________________________________________________________________________________\n",
      "block_9_depthwise_BN (BatchNorm (None, 15, 25, 384)  1536        block_9_depthwise[0][0]          \n",
      "__________________________________________________________________________________________________\n",
      "block_9_depthwise_relu (ReLU)   (None, 15, 25, 384)  0           block_9_depthwise_BN[0][0]       \n",
      "__________________________________________________________________________________________________\n",
      "block_9_project (Conv2D)        (None, 15, 25, 64)   24576       block_9_depthwise_relu[0][0]     \n",
      "__________________________________________________________________________________________________\n",
      "block_9_project_BN (BatchNormal (None, 15, 25, 64)   256         block_9_project[0][0]            \n",
      "__________________________________________________________________________________________________\n",
      "block_9_add (Add)               (None, 15, 25, 64)   0           block_8_add[0][0]                \n",
      "                                                                 block_9_project_BN[0][0]         \n",
      "__________________________________________________________________________________________________\n",
      "block_10_expand (Conv2D)        (None, 15, 25, 384)  24576       block_9_add[0][0]                \n",
      "__________________________________________________________________________________________________\n",
      "block_10_expand_BN (BatchNormal (None, 15, 25, 384)  1536        block_10_expand[0][0]            \n",
      "__________________________________________________________________________________________________\n",
      "block_10_expand_relu (ReLU)     (None, 15, 25, 384)  0           block_10_expand_BN[0][0]         \n",
      "__________________________________________________________________________________________________\n",
      "block_10_depthwise (DepthwiseCo (None, 15, 25, 384)  3456        block_10_expand_relu[0][0]       \n",
      "__________________________________________________________________________________________________\n",
      "block_10_depthwise_BN (BatchNor (None, 15, 25, 384)  1536        block_10_depthwise[0][0]         \n",
      "__________________________________________________________________________________________________\n",
      "block_10_depthwise_relu (ReLU)  (None, 15, 25, 384)  0           block_10_depthwise_BN[0][0]      \n",
      "__________________________________________________________________________________________________\n",
      "block_10_project (Conv2D)       (None, 15, 25, 96)   36864       block_10_depthwise_relu[0][0]    \n",
      "__________________________________________________________________________________________________\n",
      "block_10_project_BN (BatchNorma (None, 15, 25, 96)   384         block_10_project[0][0]           \n",
      "__________________________________________________________________________________________________\n",
      "block_11_expand (Conv2D)        (None, 15, 25, 576)  55296       block_10_project_BN[0][0]        \n",
      "__________________________________________________________________________________________________\n",
      "block_11_expand_BN (BatchNormal (None, 15, 25, 576)  2304        block_11_expand[0][0]            \n",
      "__________________________________________________________________________________________________\n",
      "block_11_expand_relu (ReLU)     (None, 15, 25, 576)  0           block_11_expand_BN[0][0]         \n",
      "__________________________________________________________________________________________________\n",
      "block_11_depthwise (DepthwiseCo (None, 15, 25, 576)  5184        block_11_expand_relu[0][0]       \n",
      "__________________________________________________________________________________________________\n",
      "block_11_depthwise_BN (BatchNor (None, 15, 25, 576)  2304        block_11_depthwise[0][0]         \n",
      "__________________________________________________________________________________________________\n",
      "block_11_depthwise_relu (ReLU)  (None, 15, 25, 576)  0           block_11_depthwise_BN[0][0]      \n",
      "__________________________________________________________________________________________________\n",
      "block_11_project (Conv2D)       (None, 15, 25, 96)   55296       block_11_depthwise_relu[0][0]    \n",
      "__________________________________________________________________________________________________\n",
      "block_11_project_BN (BatchNorma (None, 15, 25, 96)   384         block_11_project[0][0]           \n",
      "__________________________________________________________________________________________________\n",
      "block_11_add (Add)              (None, 15, 25, 96)   0           block_10_project_BN[0][0]        \n",
      "                                                                 block_11_project_BN[0][0]        \n",
      "__________________________________________________________________________________________________\n",
      "block_12_expand (Conv2D)        (None, 15, 25, 576)  55296       block_11_add[0][0]               \n",
      "__________________________________________________________________________________________________\n",
      "block_12_expand_BN (BatchNormal (None, 15, 25, 576)  2304        block_12_expand[0][0]            \n",
      "__________________________________________________________________________________________________\n",
      "block_12_expand_relu (ReLU)     (None, 15, 25, 576)  0           block_12_expand_BN[0][0]         \n",
      "__________________________________________________________________________________________________\n",
      "block_12_depthwise (DepthwiseCo (None, 15, 25, 576)  5184        block_12_expand_relu[0][0]       \n",
      "__________________________________________________________________________________________________\n",
      "block_12_depthwise_BN (BatchNor (None, 15, 25, 576)  2304        block_12_depthwise[0][0]         \n",
      "__________________________________________________________________________________________________\n",
      "block_12_depthwise_relu (ReLU)  (None, 15, 25, 576)  0           block_12_depthwise_BN[0][0]      \n",
      "__________________________________________________________________________________________________\n",
      "block_12_project (Conv2D)       (None, 15, 25, 96)   55296       block_12_depthwise_relu[0][0]    \n",
      "__________________________________________________________________________________________________\n",
      "block_12_project_BN (BatchNorma (None, 15, 25, 96)   384         block_12_project[0][0]           \n",
      "__________________________________________________________________________________________________\n",
      "block_12_add (Add)              (None, 15, 25, 96)   0           block_11_add[0][0]               \n",
      "                                                                 block_12_project_BN[0][0]        \n",
      "__________________________________________________________________________________________________\n",
      "block_13_expand (Conv2D)        (None, 15, 25, 576)  55296       block_12_add[0][0]               \n",
      "__________________________________________________________________________________________________\n",
      "block_13_expand_BN (BatchNormal (None, 15, 25, 576)  2304        block_13_expand[0][0]            \n",
      "__________________________________________________________________________________________________\n",
      "block_13_expand_relu (ReLU)     (None, 15, 25, 576)  0           block_13_expand_BN[0][0]         \n",
      "__________________________________________________________________________________________________\n",
      "block_13_pad (ZeroPadding2D)    (None, 17, 27, 576)  0           block_13_expand_relu[0][0]       \n",
      "__________________________________________________________________________________________________\n",
      "block_13_depthwise (DepthwiseCo (None, 8, 13, 576)   5184        block_13_pad[0][0]               \n",
      "__________________________________________________________________________________________________\n",
      "block_13_depthwise_BN (BatchNor (None, 8, 13, 576)   2304        block_13_depthwise[0][0]         \n",
      "__________________________________________________________________________________________________\n",
      "block_13_depthwise_relu (ReLU)  (None, 8, 13, 576)   0           block_13_depthwise_BN[0][0]      \n",
      "__________________________________________________________________________________________________\n",
      "block_13_project (Conv2D)       (None, 8, 13, 160)   92160       block_13_depthwise_relu[0][0]    \n",
      "__________________________________________________________________________________________________\n",
      "block_13_project_BN (BatchNorma (None, 8, 13, 160)   640         block_13_project[0][0]           \n",
      "__________________________________________________________________________________________________\n",
      "block_14_expand (Conv2D)        (None, 8, 13, 960)   153600      block_13_project_BN[0][0]        \n",
      "__________________________________________________________________________________________________\n",
      "block_14_expand_BN (BatchNormal (None, 8, 13, 960)   3840        block_14_expand[0][0]            \n",
      "__________________________________________________________________________________________________\n",
      "block_14_expand_relu (ReLU)     (None, 8, 13, 960)   0           block_14_expand_BN[0][0]         \n",
      "__________________________________________________________________________________________________\n",
      "block_14_depthwise (DepthwiseCo (None, 8, 13, 960)   8640        block_14_expand_relu[0][0]       \n",
      "__________________________________________________________________________________________________\n",
      "block_14_depthwise_BN (BatchNor (None, 8, 13, 960)   3840        block_14_depthwise[0][0]         \n",
      "__________________________________________________________________________________________________\n",
      "block_14_depthwise_relu (ReLU)  (None, 8, 13, 960)   0           block_14_depthwise_BN[0][0]      \n",
      "__________________________________________________________________________________________________\n",
      "block_14_project (Conv2D)       (None, 8, 13, 160)   153600      block_14_depthwise_relu[0][0]    \n",
      "__________________________________________________________________________________________________\n",
      "block_14_project_BN (BatchNorma (None, 8, 13, 160)   640         block_14_project[0][0]           \n",
      "__________________________________________________________________________________________________\n",
      "block_14_add (Add)              (None, 8, 13, 160)   0           block_13_project_BN[0][0]        \n",
      "                                                                 block_14_project_BN[0][0]        \n",
      "__________________________________________________________________________________________________\n",
      "block_15_expand (Conv2D)        (None, 8, 13, 960)   153600      block_14_add[0][0]               \n",
      "__________________________________________________________________________________________________\n",
      "block_15_expand_BN (BatchNormal (None, 8, 13, 960)   3840        block_15_expand[0][0]            \n",
      "__________________________________________________________________________________________________\n",
      "block_15_expand_relu (ReLU)     (None, 8, 13, 960)   0           block_15_expand_BN[0][0]         \n",
      "__________________________________________________________________________________________________\n",
      "block_15_depthwise (DepthwiseCo (None, 8, 13, 960)   8640        block_15_expand_relu[0][0]       \n",
      "__________________________________________________________________________________________________\n",
      "block_15_depthwise_BN (BatchNor (None, 8, 13, 960)   3840        block_15_depthwise[0][0]         \n",
      "__________________________________________________________________________________________________\n",
      "block_15_depthwise_relu (ReLU)  (None, 8, 13, 960)   0           block_15_depthwise_BN[0][0]      \n",
      "__________________________________________________________________________________________________\n",
      "block_15_project (Conv2D)       (None, 8, 13, 160)   153600      block_15_depthwise_relu[0][0]    \n",
      "__________________________________________________________________________________________________\n",
      "block_15_project_BN (BatchNorma (None, 8, 13, 160)   640         block_15_project[0][0]           \n",
      "__________________________________________________________________________________________________\n",
      "block_15_add (Add)              (None, 8, 13, 160)   0           block_14_add[0][0]               \n",
      "                                                                 block_15_project_BN[0][0]        \n",
      "__________________________________________________________________________________________________\n",
      "block_16_expand (Conv2D)        (None, 8, 13, 960)   153600      block_15_add[0][0]               \n",
      "__________________________________________________________________________________________________\n",
      "block_16_expand_BN (BatchNormal (None, 8, 13, 960)   3840        block_16_expand[0][0]            \n",
      "__________________________________________________________________________________________________\n",
      "block_16_expand_relu (ReLU)     (None, 8, 13, 960)   0           block_16_expand_BN[0][0]         \n",
      "__________________________________________________________________________________________________\n",
      "block_16_depthwise (DepthwiseCo (None, 8, 13, 960)   8640        block_16_expand_relu[0][0]       \n",
      "__________________________________________________________________________________________________\n",
      "block_16_depthwise_BN (BatchNor (None, 8, 13, 960)   3840        block_16_depthwise[0][0]         \n",
      "__________________________________________________________________________________________________\n",
      "block_16_depthwise_relu (ReLU)  (None, 8, 13, 960)   0           block_16_depthwise_BN[0][0]      \n",
      "__________________________________________________________________________________________________\n",
      "block_16_project (Conv2D)       (None, 8, 13, 320)   307200      block_16_depthwise_relu[0][0]    \n",
      "__________________________________________________________________________________________________\n",
      "block_16_project_BN (BatchNorma (None, 8, 13, 320)   1280        block_16_project[0][0]           \n",
      "__________________________________________________________________________________________________\n",
      "Conv_1 (Conv2D)                 (None, 8, 13, 1280)  409600      block_16_project_BN[0][0]        \n",
      "__________________________________________________________________________________________________\n",
      "Conv_1_bn (BatchNormalization)  (None, 8, 13, 1280)  5120        Conv_1[0][0]                     \n",
      "__________________________________________________________________________________________________\n",
      "out_relu (ReLU)                 (None, 8, 13, 1280)  0           Conv_1_bn[0][0]                  \n",
      "==================================================================================================\n",
      "Total params: 2,257,984\n",
      "Trainable params: 0\n",
      "Non-trainable params: 2,257,984\n",
      "__________________________________________________________________________________________________\n",
      "(32, 1280)\n"
     ]
    }
   ],
   "source": [
    "base_model.trainable = False\n",
    "\n",
    "# Let's take a look at the base model architecture\n",
    "base_model.summary()\n",
    "\n",
    "global_average_layer = tf.keras.layers.GlobalAveragePooling2D()\n",
    "feature_batch_average = global_average_layer(feature_batch)\n",
    "print(feature_batch_average.shape)"
   ]
  },
  {
   "cell_type": "code",
   "execution_count": 20,
   "metadata": {
    "colab": {
     "base_uri": "https://localhost:8080/"
    },
    "executionInfo": {
     "elapsed": 15,
     "status": "ok",
     "timestamp": 1624096164164,
     "user": {
      "displayName": "Kevin Wang",
      "photoUrl": "https://lh3.googleusercontent.com/a-/AOh14Gi9-Fu0RGN6_SQa5HFDP87EDy6glgCTRMK46uWLjw=s64",
      "userId": "00552789561982738251"
     },
     "user_tz": -600
    },
    "id": "laggNWE4B2Jl",
    "outputId": "efff9d6d-106f-4569-fb8f-d8b0f0018f13"
   },
   "outputs": [
    {
     "name": "stdout",
     "output_type": "stream",
     "text": [
      "(32, 1)\n"
     ]
    }
   ],
   "source": [
    "prediction_layer = tf.keras.layers.Dense(1)\n",
    "prediction_batch = prediction_layer(feature_batch_average)\n",
    "print(prediction_batch.shape)"
   ]
  },
  {
   "cell_type": "code",
   "execution_count": 21,
   "metadata": {
    "id": "uLpjGqZeB4Dm"
   },
   "outputs": [],
   "source": [
    "preprocess_input = tf.keras.applications.mobilenet_v2.preprocess_input\n",
    "\n",
    "inputs = tf.keras.Input(shape=(225, 400, 3))\n",
    "# x = data_augmentation(inputs)\n",
    "# x = preprocess_input(x)\n",
    "x = preprocess_input(inputs)\n",
    "x = base_model(x, training=False)\n",
    "x = global_average_layer(x)\n",
    "x = tf.keras.layers.Dropout(0.2)(x)\n",
    "outputs = prediction_layer(x)\n",
    "model = tf.keras.Model(inputs, outputs)"
   ]
  },
  {
   "cell_type": "code",
   "execution_count": 22,
   "metadata": {
    "colab": {
     "base_uri": "https://localhost:8080/"
    },
    "executionInfo": {
     "elapsed": 5,
     "status": "ok",
     "timestamp": 1624096166584,
     "user": {
      "displayName": "Kevin Wang",
      "photoUrl": "https://lh3.googleusercontent.com/a-/AOh14Gi9-Fu0RGN6_SQa5HFDP87EDy6glgCTRMK46uWLjw=s64",
      "userId": "00552789561982738251"
     },
     "user_tz": -600
    },
    "id": "8OhcpcVlB5-o",
    "outputId": "5c7ce790-2cc3-4516-9cd8-09a3e66eeb38"
   },
   "outputs": [
    {
     "name": "stdout",
     "output_type": "stream",
     "text": [
      "Model: \"model\"\n",
      "_________________________________________________________________\n",
      "Layer (type)                 Output Shape              Param #   \n",
      "=================================================================\n",
      "input_2 (InputLayer)         [(None, 225, 400, 3)]     0         \n",
      "_________________________________________________________________\n",
      "tf.math.truediv (TFOpLambda) (None, 225, 400, 3)       0         \n",
      "_________________________________________________________________\n",
      "tf.math.subtract (TFOpLambda (None, 225, 400, 3)       0         \n",
      "_________________________________________________________________\n",
      "mobilenetv2_1.00_224 (Functi (None, 8, 13, 1280)       2257984   \n",
      "_________________________________________________________________\n",
      "global_average_pooling2d (Gl (None, 1280)              0         \n",
      "_________________________________________________________________\n",
      "dropout (Dropout)            (None, 1280)              0         \n",
      "_________________________________________________________________\n",
      "dense (Dense)                (None, 1)                 1281      \n",
      "=================================================================\n",
      "Total params: 2,259,265\n",
      "Trainable params: 1,281\n",
      "Non-trainable params: 2,257,984\n",
      "_________________________________________________________________\n"
     ]
    },
    {
     "name": "stderr",
     "output_type": "stream",
     "text": [
      "/home/u0037678/.conda/envs/env_cap/lib/python3.7/site-packages/tensorflow/python/keras/optimizer_v2/optimizer_v2.py:375: UserWarning: The `lr` argument is deprecated, use `learning_rate` instead.\n",
      "  \"The `lr` argument is deprecated, use `learning_rate` instead.\")\n"
     ]
    }
   ],
   "source": [
    "base_learning_rate = 0.0001\n",
    "model.compile(optimizer=tf.keras.optimizers.Adam(lr=base_learning_rate),\n",
    "              loss=tf.keras.losses.BinaryCrossentropy(from_logits=True),\n",
    "              metrics=['accuracy'])\n",
    "model.summary()"
   ]
  },
  {
   "cell_type": "markdown",
   "metadata": {
    "id": "S3I-xMvkCFYW"
   },
   "source": [
    "# Initial training"
   ]
  },
  {
   "cell_type": "code",
   "execution_count": 23,
   "metadata": {
    "colab": {
     "base_uri": "https://localhost:8080/"
    },
    "executionInfo": {
     "elapsed": 210274,
     "status": "ok",
     "timestamp": 1624096378902,
     "user": {
      "displayName": "Kevin Wang",
      "photoUrl": "https://lh3.googleusercontent.com/a-/AOh14Gi9-Fu0RGN6_SQa5HFDP87EDy6glgCTRMK46uWLjw=s64",
      "userId": "00552789561982738251"
     },
     "user_tz": -600
    },
    "id": "8sjGC9pSCC7V",
    "outputId": "bbb4d066-7716-437a-8eb6-c43e34d114bf"
   },
   "outputs": [
    {
     "name": "stdout",
     "output_type": "stream",
     "text": [
      "79/79 [==============================] - 25s 306ms/step - loss: 0.7741 - accuracy: 0.6560\n"
     ]
    }
   ],
   "source": [
    "initial_epochs = 3\n",
    "\n",
    "loss0, accuracy0 = model.evaluate(validation_dataset)"
   ]
  },
  {
   "cell_type": "code",
   "execution_count": 24,
   "metadata": {
    "colab": {
     "base_uri": "https://localhost:8080/"
    },
    "executionInfo": {
     "elapsed": 954637,
     "status": "ok",
     "timestamp": 1624097333527,
     "user": {
      "displayName": "Kevin Wang",
      "photoUrl": "https://lh3.googleusercontent.com/a-/AOh14Gi9-Fu0RGN6_SQa5HFDP87EDy6glgCTRMK46uWLjw=s64",
      "userId": "00552789561982738251"
     },
     "user_tz": -600
    },
    "id": "LajfbRKVCGpB",
    "outputId": "79d11010-921c-4e2d-cfc3-1ff2042ba271"
   },
   "outputs": [
    {
     "name": "stdout",
     "output_type": "stream",
     "text": [
      "Epoch 1/3\n",
      "249/249 [==============================] - 99s 390ms/step - loss: 0.6678 - accuracy: 0.6608 - val_loss: 0.6371 - val_accuracy: 0.6667\n",
      "Epoch 2/3\n",
      "249/249 [==============================] - 97s 388ms/step - loss: 0.6609 - accuracy: 0.6651 - val_loss: 0.6378 - val_accuracy: 0.6667\n",
      "Epoch 3/3\n",
      "249/249 [==============================] - 95s 381ms/step - loss: 0.6578 - accuracy: 0.6661 - val_loss: 0.6369 - val_accuracy: 0.6667\n"
     ]
    }
   ],
   "source": [
    "history = model.fit(train_dataset,\n",
    "                    epochs=initial_epochs,\n",
    "                    validation_data=validation_dataset)"
   ]
  },
  {
   "cell_type": "code",
   "execution_count": 28,
   "metadata": {
    "colab": {
     "base_uri": "https://localhost:8080/",
     "height": 513
    },
    "executionInfo": {
     "elapsed": 1491,
     "status": "ok",
     "timestamp": 1624097335011,
     "user": {
      "displayName": "Kevin Wang",
      "photoUrl": "https://lh3.googleusercontent.com/a-/AOh14Gi9-Fu0RGN6_SQa5HFDP87EDy6glgCTRMK46uWLjw=s64",
      "userId": "00552789561982738251"
     },
     "user_tz": -600
    },
    "id": "DVkcqG6_CIOp",
    "outputId": "24aacc54-97d1-4647-f4b8-7cd3ab324326"
   },
   "outputs": [
    {
     "data": {
      "image/png": "[encoded data removed]",
      "text/plain": [
       "<Figure size 576x576 with 2 Axes>"
      ]
     },
     "metadata": {
      "needs_background": "light"
     },
     "output_type": "display_data"
    }
   ],
   "source": [
    "acc = history.history['accuracy']\n",
    "val_acc = history.history['val_accuracy']\n",
    "\n",
    "loss = history.history['loss']\n",
    "val_loss = history.history['val_loss']\n",
    "\n",
    "plt.figure(figsize=(8, 8))\n",
    "plt.subplot(2, 1, 1)\n",
    "plt.plot(acc, label='Training Accuracy')\n",
    "plt.plot(val_acc, label='Validation Accuracy')\n",
    "plt.legend(loc='lower right')\n",
    "plt.ylabel('Accuracy')\n",
    "plt.ylim([min(plt.ylim()),1])\n",
    "plt.title('Training and Validation Accuracy')\n",
    "\n",
    "plt.subplot(2, 1, 2)\n",
    "plt.plot(loss, label='Training Loss')\n",
    "plt.plot(val_loss, label='Validation Loss')\n",
    "plt.legend(loc='upper right')\n",
    "plt.ylabel('Cross Entropy')\n",
    "plt.ylim([0,1.0])\n",
    "plt.title('Training and Validation Loss')\n",
    "plt.xlabel('epoch')\n",
    "plt.show()"
   ]
  },
  {
   "cell_type": "markdown",
   "metadata": {
    "id": "N4YNWs8dCN3G"
   },
   "source": [
    "# Fine tuning"
   ]
  },
  {
   "cell_type": "code",
   "execution_count": 25,
   "metadata": {
    "colab": {
     "base_uri": "https://localhost:8080/"
    },
    "executionInfo": {
     "elapsed": 10,
     "status": "ok",
     "timestamp": 1624097335012,
     "user": {
      "displayName": "Kevin Wang",
      "photoUrl": "https://lh3.googleusercontent.com/a-/AOh14Gi9-Fu0RGN6_SQa5HFDP87EDy6glgCTRMK46uWLjw=s64",
      "userId": "00552789561982738251"
     },
     "user_tz": -600
    },
    "id": "5L9oGNX7CL-x",
    "outputId": "b7737704-6160-4268-8964-27d0eea8cbe7"
   },
   "outputs": [
    {
     "name": "stdout",
     "output_type": "stream",
     "text": [
      "Number of layers in the base model:  154\n",
      "Model: \"model\"\n",
      "_________________________________________________________________\n",
      "Layer (type)                 Output Shape              Param #   \n",
      "=================================================================\n",
      "input_2 (InputLayer)         [(None, 225, 400, 3)]     0         \n",
      "_________________________________________________________________\n",
      "tf.math.truediv (TFOpLambda) (None, 225, 400, 3)       0         \n",
      "_________________________________________________________________\n",
      "tf.math.subtract (TFOpLambda (None, 225, 400, 3)       0         \n",
      "_________________________________________________________________\n",
      "mobilenetv2_1.00_224 (Functi (None, 8, 13, 1280)       2257984   \n",
      "_________________________________________________________________\n",
      "global_average_pooling2d (Gl (None, 1280)              0         \n",
      "_________________________________________________________________\n",
      "dropout (Dropout)            (None, 1280)              0         \n",
      "_________________________________________________________________\n",
      "dense (Dense)                (None, 1)                 1281      \n",
      "=================================================================\n",
      "Total params: 2,259,265\n",
      "Trainable params: 1,862,721\n",
      "Non-trainable params: 396,544\n",
      "_________________________________________________________________\n"
     ]
    },
    {
     "data": {
      "text/plain": [
       "56"
      ]
     },
     "execution_count": 25,
     "metadata": {},
     "output_type": "execute_result"
    }
   ],
   "source": [
    "base_model.trainable = True\n",
    "\n",
    "# Let's take a look to see how many layers are in the base model\n",
    "print(\"Number of layers in the base model: \", len(base_model.layers))\n",
    "\n",
    "# Fine-tune from this layer onwards\n",
    "fine_tune_at = 100\n",
    "\n",
    "# Freeze all the layers before the `fine_tune_at` layer\n",
    "for layer in base_model.layers[:fine_tune_at]:\n",
    "  layer.trainable =  False\n",
    "\n",
    "model.compile(loss=tf.keras.losses.BinaryCrossentropy(from_logits=True),\n",
    "              optimizer = tf.keras.optimizers.RMSprop(lr=base_learning_rate/10),\n",
    "              metrics=['accuracy'])\n",
    "model.summary()\n",
    "len(model.trainable_variables)"
   ]
  },
  {
   "cell_type": "code",
   "execution_count": 26,
   "metadata": {
    "colab": {
     "base_uri": "https://localhost:8080/"
    },
    "executionInfo": {
     "elapsed": 3452284,
     "status": "ok",
     "timestamp": 1624100787290,
     "user": {
      "displayName": "Kevin Wang",
      "photoUrl": "https://lh3.googleusercontent.com/a-/AOh14Gi9-Fu0RGN6_SQa5HFDP87EDy6glgCTRMK46uWLjw=s64",
      "userId": "00552789561982738251"
     },
     "user_tz": -600
    },
    "id": "ehwMq1WeCTlC",
    "outputId": "c1b45c79-7f61-4cab-b4e8-d96b0143c448"
   },
   "outputs": [
    {
     "name": "stdout",
     "output_type": "stream",
     "text": [
      "Epoch 3/13\n",
      "249/249 [==============================] - 152s 599ms/step - loss: 0.6399 - accuracy: 0.6663 - val_loss: 0.6368 - val_accuracy: 0.6667\n",
      "Epoch 4/13\n",
      "249/249 [==============================] - 147s 589ms/step - loss: 0.6370 - accuracy: 0.6667 - val_loss: 0.6369 - val_accuracy: 0.6667\n",
      "Epoch 5/13\n",
      "249/249 [==============================] - 149s 596ms/step - loss: 0.6369 - accuracy: 0.6667 - val_loss: 0.6368 - val_accuracy: 0.6667\n",
      "Epoch 6/13\n",
      "249/249 [==============================] - 147s 589ms/step - loss: 0.6368 - accuracy: 0.6667 - val_loss: 0.6366 - val_accuracy: 0.6667\n",
      "Epoch 7/13\n",
      "249/249 [==============================] - 167s 671ms/step - loss: 0.6368 - accuracy: 0.6667 - val_loss: 0.6367 - val_accuracy: 0.6667\n",
      "Epoch 8/13\n",
      "249/249 [==============================] - 156s 625ms/step - loss: 0.6367 - accuracy: 0.6667 - val_loss: 0.6366 - val_accuracy: 0.6667\n",
      "Epoch 9/13\n",
      "249/249 [==============================] - 149s 596ms/step - loss: 0.6367 - accuracy: 0.6667 - val_loss: 0.6366 - val_accuracy: 0.6667\n",
      "Epoch 10/13\n",
      "249/249 [==============================] - 151s 607ms/step - loss: 0.6367 - accuracy: 0.6667 - val_loss: 0.6365 - val_accuracy: 0.6667\n",
      "Epoch 11/13\n",
      "249/249 [==============================] - 156s 625ms/step - loss: 0.6367 - accuracy: 0.6667 - val_loss: 0.6366 - val_accuracy: 0.6667\n",
      "Epoch 12/13\n",
      "249/249 [==============================] - 156s 626ms/step - loss: 0.6367 - accuracy: 0.6667 - val_loss: 0.6366 - val_accuracy: 0.6667\n",
      "Epoch 13/13\n",
      "249/249 [==============================] - 149s 596ms/step - loss: 0.6367 - accuracy: 0.6667 - val_loss: 0.6366 - val_accuracy: 0.6667\n"
     ]
    }
   ],
   "source": [
    "fine_tune_epochs = 10\n",
    "total_epochs =  initial_epochs + fine_tune_epochs\n",
    "\n",
    "history_fine = model.fit(train_dataset,\n",
    "                         epochs=total_epochs,\n",
    "                         initial_epoch=history.epoch[-1],\n",
    "                         validation_data=validation_dataset)"
   ]
  },
  {
   "cell_type": "code",
   "execution_count": 29,
   "metadata": {
    "colab": {
     "base_uri": "https://localhost:8080/",
     "height": 230
    },
    "executionInfo": {
     "elapsed": 1246,
     "status": "error",
     "timestamp": 1624107780331,
     "user": {
      "displayName": "Kevin Wang",
      "photoUrl": "https://lh3.googleusercontent.com/a-/AOh14Gi9-Fu0RGN6_SQa5HFDP87EDy6glgCTRMK46uWLjw=s64",
      "userId": "00552789561982738251"
     },
     "user_tz": -600
    },
    "id": "10fZG5XdCVbG",
    "outputId": "eac1cc5e-c008-403f-c797-e1945b1ef037"
   },
   "outputs": [
    {
     "data": {
      "image/png": "[encoded data removed]",
      "text/plain": [
       "<Figure size 576x576 with 2 Axes>"
      ]
     },
     "metadata": {
      "needs_background": "light"
     },
     "output_type": "display_data"
    }
   ],
   "source": [
    "acc += history_fine.history['accuracy']\n",
    "val_acc += history_fine.history['val_accuracy']\n",
    "\n",
    "loss += history_fine.history['loss']\n",
    "val_loss += history_fine.history['val_loss']\n",
    "\n",
    "plt.figure(figsize=(8, 8))\n",
    "plt.subplot(2, 1, 1)\n",
    "plt.plot(acc, label='Training Accuracy')\n",
    "plt.plot(val_acc, label='Validation Accuracy')\n",
    "plt.ylim([0.45, 1])\n",
    "plt.plot([initial_epochs-1,initial_epochs-1],\n",
    "          plt.ylim(), label='Start Fine Tuning')\n",
    "plt.legend(loc='lower right')\n",
    "plt.title('Training and Validation Accuracy')\n",
    "\n",
    "plt.subplot(2, 1, 2)\n",
    "plt.plot(loss, label='Training Loss')\n",
    "plt.plot(val_loss, label='Validation Loss')\n",
    "plt.ylim([0, 1.0])\n",
    "plt.plot([initial_epochs-1,initial_epochs-1],\n",
    "         plt.ylim(), label='Start Fine Tuning')\n",
    "plt.legend(loc='upper right')\n",
    "plt.title('Training and Validation Loss')\n",
    "plt.xlabel('epoch')\n",
    "plt.show()"
   ]
  },
  {
   "cell_type": "code",
   "execution_count": null,
   "metadata": {
    "colab": {
     "base_uri": "https://localhost:8080/"
    },
    "executionInfo": {
     "elapsed": 37925,
     "status": "ok",
     "timestamp": 1624107832317,
     "user": {
      "displayName": "Kevin Wang",
      "photoUrl": "https://lh3.googleusercontent.com/a-/AOh14Gi9-Fu0RGN6_SQa5HFDP87EDy6glgCTRMK46uWLjw=s64",
      "userId": "00552789561982738251"
     },
     "user_tz": -600
    },
    "id": "EDP5MuRHCXd8",
    "outputId": "0e45d149-de7f-46f6-faf0-7bed803d66a9"
   },
   "outputs": [
    {
     "name": "stdout",
     "output_type": "stream",
     "text": [
      "22/22 [==============================] - 37s 2s/step - loss: 0.2778 - accuracy: 0.8825\n",
      "Test accuracy : 0.8825256824493408\n"
     ]
    }
   ],
   "source": [
    "loss, accuracy = model.evaluate(test_dataset)\n",
    "print('Test accuracy :', accuracy)"
   ]
  },
  {
   "cell_type": "code",
   "execution_count": null,
   "metadata": {
    "colab": {
     "base_uri": "https://localhost:8080/"
    },
    "executionInfo": {
     "elapsed": 33496,
     "status": "ok",
     "timestamp": 1624109032201,
     "user": {
      "displayName": "Kevin Wang",
      "photoUrl": "https://lh3.googleusercontent.com/a-/AOh14Gi9-Fu0RGN6_SQa5HFDP87EDy6glgCTRMK46uWLjw=s64",
      "userId": "00552789561982738251"
     },
     "user_tz": -600
    },
    "id": "m-W_ey31CZHs",
    "outputId": "cf48ae75-c049-4a9e-f18d-456249b773a7"
   },
   "outputs": [
    {
     "name": "stdout",
     "output_type": "stream",
     "text": [
      "INFO:tensorflow:Assets written to: /content/a380vb787_dataframemodel/assets\n"
     ]
    }
   ],
   "source": [
    "model.save('/content/a380vb787_dataframemodel')"
   ]
  },
  {
   "cell_type": "code",
   "execution_count": null,
   "metadata": {
    "colab": {
     "base_uri": "https://localhost:8080/"
    },
    "executionInfo": {
     "elapsed": 2170,
     "status": "ok",
     "timestamp": 1624109057915,
     "user": {
      "displayName": "Kevin Wang",
      "photoUrl": "https://lh3.googleusercontent.com/a-/AOh14Gi9-Fu0RGN6_SQa5HFDP87EDy6glgCTRMK46uWLjw=s64",
      "userId": "00552789561982738251"
     },
     "user_tz": -600
    },
    "id": "qv3tf0K7ZUYA",
    "outputId": "fe6b8e7d-55d3-4dff-ddc3-5850ada43dbe"
   },
   "outputs": [
    {
     "name": "stdout",
     "output_type": "stream",
     "text": [
      "  adding: content/a380vb787_dataframemodel/ (stored 0%)\n",
      "  adding: content/a380vb787_dataframemodel/keras_metadata.pb (deflated 96%)\n",
      "  adding: content/a380vb787_dataframemodel/variables/ (stored 0%)\n",
      "  adding: content/a380vb787_dataframemodel/variables/variables.data-00000-of-00001 (deflated 8%)\n",
      "  adding: content/a380vb787_dataframemodel/variables/variables.index (deflated 77%)\n",
      "  adding: content/a380vb787_dataframemodel/assets/ (stored 0%)\n",
      "  adding: content/a380vb787_dataframemodel/saved_model.pb (deflated 92%)\n"
     ]
    }
   ],
   "source": [
    "!zip -r /content/a380vb787_dataframemodel.zip /content/a380vb787_dataframemodel/"
   ]
  },
  {
   "cell_type": "code",
   "execution_count": null,
   "metadata": {
    "id": "XdbMBB91cXmr"
   },
   "outputs": [],
   "source": []
  }
 ],
 "metadata": {
  "colab": {
   "authorship_tag": "ABX9TyN2BWJD6ERpp07ae13Cok+H",
   "collapsed_sections": [],
   "name": "stage1_dataframe.ipynb",
   "provenance": [
    {
     "file_id": "19QFs45wfnf2YTW1lE46DFIzwvHEZ0qsn",
     "timestamp": 1623984494222
    }
   ]
  },
  "kernelspec": {
   "display_name": "Python 3",
   "language": "python",
   "name": "python3"
  },
  "language_info": {
   "codemirror_mode": {
    "name": "ipython",
    "version": 3
   },
   "file_extension": ".py",
   "mimetype": "text/x-python",
   "name": "python",
   "nbconvert_exporter": "python",
   "pygments_lexer": "ipython3",
   "version": "3.7.3"
  },
  "toc-autonumbering": false,
  "toc-showcode": false,
  "toc-showmarkdowntxt": false
 },
 "nbformat": 4,
 "nbformat_minor": 4
}
